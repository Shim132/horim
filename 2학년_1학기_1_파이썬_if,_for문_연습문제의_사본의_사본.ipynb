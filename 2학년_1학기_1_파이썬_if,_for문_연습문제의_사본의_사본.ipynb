{
  "nbformat": 4,
  "nbformat_minor": 0,
  "metadata": {
    "colab": {
      "provenance": [],
      "mount_file_id": "10QwlUjvPmZrQYfLZe0myF08eU7LCbEbt",
      "authorship_tag": "ABX9TyNJLBLtPRtNQEuEMtkPubZ8",
      "include_colab_link": true
    },
    "kernelspec": {
      "name": "python3",
      "display_name": "Python 3"
    },
    "language_info": {
      "name": "python"
    }
  },
  "cells": [
    {
      "cell_type": "markdown",
      "metadata": {
        "id": "view-in-github",
        "colab_type": "text"
      },
      "source": [
        "<a href=\"https://colab.research.google.com/github/Shim132/horim/blob/main/2%ED%95%99%EB%85%84_1%ED%95%99%EA%B8%B0_1_%ED%8C%8C%EC%9D%B4%EC%8D%AC_if%2C_for%EB%AC%B8_%EC%97%B0%EC%8A%B5%EB%AC%B8%EC%A0%9C%EC%9D%98_%EC%82%AC%EB%B3%B8%EC%9D%98_%EC%82%AC%EB%B3%B8.ipynb\" target=\"_parent\"><img src=\"https://colab.research.google.com/assets/colab-badge.svg\" alt=\"Open In Colab\"/></a>"
      ]
    },
    {
      "cell_type": "code",
      "execution_count": null,
      "metadata": {
        "colab": {
          "base_uri": "https://localhost:8080/"
        },
        "id": "JBMO2ipi7Ce2",
        "outputId": "c7f620e0-36fb-4f49-87d6-55dba93bfeb8"
      },
      "outputs": [
        {
          "output_type": "stream",
          "name": "stdout",
          "text": [
            "정수 입력: 54\n",
            "짝수\n"
          ]
        }
      ],
      "source": [
        "#1. 정수 하나를 입력받아 그 수가 짝수인지, 홀수인지를 판별하는 프로그램을 작성하시오.\n",
        "a=int(input(\"정수 입력: \"))\n",
        "if a%2==0:\n",
        "  print(\"짝수\")\n",
        "else:\n",
        "  print(\"홀수\")"
      ]
    },
    {
      "cell_type": "code",
      "source": [
        "#2  두 정수 a, b를 입력받아 더 큰 수를 구하여 출력하는 프로그램을 작성하시오.\n",
        "a,b=map(int,input(\"정수 입력:\").split(\",\"))\n",
        "if a>b:\n",
        "  print(a)\n",
        "else:\n",
        "  print(b)"
      ],
      "metadata": {
        "colab": {
          "base_uri": "https://localhost:8080/"
        },
        "id": "06AjkI9D70pT",
        "outputId": "7635dcf3-6c53-4cd1-d896-0df1747e11f3"
      },
      "execution_count": null,
      "outputs": [
        {
          "output_type": "stream",
          "name": "stdout",
          "text": [
            "정수 입력:777 9\n",
            "777\n"
          ]
        }
      ]
    },
    {
      "cell_type": "code",
      "source": [
        "#3. 임의의 두 정수를 입력받아 큰수에서 작은 수를 뺀 결과와 나눈 결과를 출력하는 프로그램을 작성하시오.\n",
        "a,b=map(int,input(\"정수 입력:\").split(\",\"))\n",
        "if a>b:\n",
        "  print(a-b,a/b)\n",
        "else:\n",
        "  print(b-a,b/a)\n"
      ],
      "metadata": {
        "colab": {
          "base_uri": "https://localhost:8080/"
        },
        "id": "GCide8Hx8VNR",
        "outputId": "b044f031-ee3c-4a9e-ac0f-01f2326f4337"
      },
      "execution_count": null,
      "outputs": [
        {
          "output_type": "stream",
          "name": "stdout",
          "text": [
            "정수 입력:11,77\n",
            "66 7.0\n"
          ]
        }
      ]
    },
    {
      "cell_type": "code",
      "source": [
        "#4. 임의의 정수 a를 입력받아 1~10 범위의 수이면 “OK\"를, 그렇지 않으면 ”NOK\"를 출력하시오.\n",
        "a=int(input(\"정수 입력: \"))\n",
        "if 1<a<10:\n",
        "  print(\"OK\")\n",
        "else:\n",
        "  print(\"NOK\")"
      ],
      "metadata": {
        "colab": {
          "base_uri": "https://localhost:8080/"
        },
        "id": "DNQKHpKV9Y5e",
        "outputId": "5476ce18-345a-4d8e-e858-203b1d98ad4a"
      },
      "execution_count": null,
      "outputs": [
        {
          "output_type": "stream",
          "name": "stdout",
          "text": [
            "정수 입력: 55\n",
            "NOK\n"
          ]
        }
      ]
    },
    {
      "cell_type": "code",
      "source": [
        "#5. 임의의 정수 a를 입력받아 1이하이거나 10 이상의 수이면 “OK\"를, 그렇지 않으면 ”NOK\"를 출력.\n",
        "a=int(input(\"정수 입력: \"))\n",
        "if a<=1 or a>=10:\n",
        "  print(\"OK\")\n",
        "else:\n",
        "  print(\"NOK\")"
      ],
      "metadata": {
        "colab": {
          "base_uri": "https://localhost:8080/"
        },
        "id": "097ekKvu9tT7",
        "outputId": "c0fdb77d-08cd-4e17-a6b6-882a177439a3"
      },
      "execution_count": null,
      "outputs": [
        {
          "output_type": "stream",
          "name": "stdout",
          "text": [
            "정수 입력: 11\n",
            "OK\n"
          ]
        }
      ]
    },
    {
      "cell_type": "code",
      "source": [
        "#6. 입력된 실수가 [1~10) 사이이면 입력값의 2배 값을 출력하고, 그렇지 않으면 3배 값을 출력하는 프로그램을 작성하시오. \n",
        "a=int(input(\"실수 입력: \"))\n",
        "if 1<=a<10:\n",
        "  print(a*2)\n",
        "else:\n",
        "  print(a*3)"
      ],
      "metadata": {
        "colab": {
          "base_uri": "https://localhost:8080/"
        },
        "id": "yw8JIM6d-Ch8",
        "outputId": "c62a56b9-5725-4e3d-b721-d09783270f8c"
      },
      "execution_count": null,
      "outputs": [
        {
          "output_type": "stream",
          "name": "stdout",
          "text": [
            "실수 입력: -8\n",
            "-24\n"
          ]
        }
      ]
    },
    {
      "cell_type": "code",
      "source": [
        "#7. 임의의 문자를 입력받아 그 문자가 대문자인지 아닌지를 판별하는 프로그램을 작성하시오. \n",
        "a=str(input(\"문자 입력:\"))\n",
        "b=a.lower()\n",
        "\n",
        "if a==b:\n",
        "  print(\"대문자아님\")\n",
        "else:\n",
        "  print(\"대문자\")"
      ],
      "metadata": {
        "colab": {
          "base_uri": "https://localhost:8080/"
        },
        "id": "mnOQVKKk-mmm",
        "outputId": "e5751a4d-4d6d-4df9-a9bf-995306c5a4ef"
      },
      "execution_count": null,
      "outputs": [
        {
          "output_type": "stream",
          "name": "stdout",
          "text": [
            "문자 입력:H\n",
            "대문자\n"
          ]
        }
      ]
    },
    {
      "cell_type": "code",
      "source": [
        "#8. 임의의 문자를 입력받아 그 문자가 'y' 또는 'Y' 또는 개행문자(‘\\n')이면 “OK\"를, 그렇지 않으면 ”NOK\"를 출력하시오.\n",
        "a=str(input(\"문자 입력:\"))\n",
        "if a==\"y\" or a==\"Y\" or a==\"\\n\":\n",
        "  print(\"OK\")\n",
        "else:\n",
        "  print(\"NOK\")"
      ],
      "metadata": {
        "colab": {
          "base_uri": "https://localhost:8080/"
        },
        "id": "kNBcGxFiWQtx",
        "outputId": "4ed6b25e-5fe2-4d81-8c76-3c1d164dc81a"
      },
      "execution_count": null,
      "outputs": [
        {
          "output_type": "stream",
          "name": "stdout",
          "text": [
            "문자 입력:d\n",
            "NOK\n"
          ]
        }
      ]
    },
    {
      "cell_type": "code",
      "source": [
        "#9. 임의의 문자를 입력받아 대문자인지, 소문자인지, 기타의 문자인지를 판별하는 프로그램을 작성하시오.\n",
        "a=str(input(\"문자 입력:\"))\n",
        "if a.isupper():\n",
        "  print(\"대문자\")\n",
        "elif a.islower():\n",
        "  print(\"소문자\")\n",
        "else:\n",
        "  print(\"기타의 문자\")"
      ],
      "metadata": {
        "colab": {
          "base_uri": "https://localhost:8080/"
        },
        "id": "rWde9nTyYonG",
        "outputId": "01e98dd7-9013-479c-cec2-488fa6f3ec7f"
      },
      "execution_count": null,
      "outputs": [
        {
          "output_type": "stream",
          "name": "stdout",
          "text": [
            "문자 입력::\n",
            "기타의 문자\n"
          ]
        }
      ]
    },
    {
      "cell_type": "code",
      "source": [
        "#10. 임의의 정수 a를 입력받아 [1..10] 범위의 수가 아니면 “ERROR\"를 출력하고, 1~10 범위의 수이지만 3의 배수가 아니면 “OK\"를, 그렇지 않으면 ”NOK\"를 출력하시오.\n",
        "a=int(input(\"정수 입력:\"))\n",
        "if 1>=a or a>=10 :\n",
        "  print(\"ERROR\")\n",
        "elif 1<a<10 and a%3!=0:\n",
        "  print(\"OK\")\n",
        "else:\n",
        "  print(\"NOK\")"
      ],
      "metadata": {
        "colab": {
          "base_uri": "https://localhost:8080/"
        },
        "id": "pr4b8IYlZz3f",
        "outputId": "6ac31244-6578-44f9-e6b0-29247a765c58"
      },
      "execution_count": null,
      "outputs": [
        {
          "output_type": "stream",
          "name": "stdout",
          "text": [
            "정수 입력:9\n",
            "NOK\n"
          ]
        }
      ]
    },
    {
      "cell_type": "code",
      "source": [
        "#11. 임의의 양의 정수 n을 입력받아 1에서 n까지의 합을 구하시오.\n",
        "n=int(input(\"양의 정수 입력:\"))\n",
        "a=0\n",
        "for i in range(1,n+1):\n",
        "  a=a+i\n",
        "print(a)"
      ],
      "metadata": {
        "colab": {
          "base_uri": "https://localhost:8080/"
        },
        "id": "5WA0NM9ccHQa",
        "outputId": "c40a5d0f-32da-4626-f973-34272b00b079"
      },
      "execution_count": null,
      "outputs": [
        {
          "output_type": "stream",
          "name": "stdout",
          "text": [
            "양의 정수 입력:5\n",
            "15\n"
          ]
        }
      ]
    },
    {
      "cell_type": "code",
      "source": [
        "#12. 임의의 양의 정수 n을 입력받아 n!을 구하시오.\n",
        "n=int(input(\"양의 정수 입력:\"))\n",
        "a=1\n",
        "for i in range(1,n+1):\n",
        "  a=a*i\n",
        "print(a)"
      ],
      "metadata": {
        "colab": {
          "base_uri": "https://localhost:8080/"
        },
        "id": "f1AjPA0Ddnqh",
        "outputId": "640b1fb6-637a-451d-8caa-5efa607fa255"
      },
      "execution_count": null,
      "outputs": [
        {
          "output_type": "stream",
          "name": "stdout",
          "text": [
            "양의 정수 입력:4\n",
            "24\n"
          ]
        }
      ]
    },
    {
      "cell_type": "code",
      "source": [
        "#13. 두 정수 a, b를 입력받아 [a, b] 사이의 홀수의 개수와 합을 구하는 프로그램을 작성하시오.\n",
        "a,b=map(int,input(\"정수 입력:\").split(\",\"))\n",
        "c=0 #홀수의 개수\n",
        "d=0 #홀수의 합\n",
        "for i in range(a,b+1,1):\n",
        "  if i%2!=0:\n",
        "    c=c+1\n",
        "    d=d+i\n",
        "print(f'홀수의 개수는 {c} 이고 홀수의 합은 {d} 이다.')"
      ],
      "metadata": {
        "colab": {
          "base_uri": "https://localhost:8080/"
        },
        "id": "wud_UDbYekeg",
        "outputId": "4282ecb6-2df0-4878-8fd0-0f0f86bddee6"
      },
      "execution_count": null,
      "outputs": [
        {
          "output_type": "stream",
          "name": "stdout",
          "text": [
            "정수 입력:1,3\n",
            "홀수의 개수는 2이고 홀수의 합은 4이다.\n"
          ]
        }
      ]
    },
    {
      "cell_type": "code",
      "source": [
        "#14. 100 이하의 자연수중 3의 배수이거나 5의 배수이면서 15의 배수가 아닌 수들의 합을 구하시오.\n",
        "s=0\n",
        "for i in range(1,101,1):\n",
        "  if (i%3==0 or i%5==0 )and i%15!=0:\n",
        "    s=s+i\n",
        "print(f'100 이하의 자연수중 3의 배수이거나 5의 배수이면서 15의 배수가 아닌 수들의 합은 {s}입니다.')"
      ],
      "metadata": {
        "colab": {
          "base_uri": "https://localhost:8080/"
        },
        "id": "SGiBKWFRhNEQ",
        "outputId": "cce740bf-d8ce-45ff-b2f7-379cb790353d"
      },
      "execution_count": null,
      "outputs": [
        {
          "output_type": "stream",
          "name": "stdout",
          "text": [
            "100 이하의 자연수중 3의 배수이거나 5의 배수이면서 15의 배수가 아닌 수들의 합은 2103입니다.\n"
          ]
        }
      ]
    },
    {
      "cell_type": "code",
      "source": [
        "#15. 100 이하의 임의의 양의 정수 n을 입력받아 1~100 사이에서 n의 배수와 n의 배수의 개수를 출력하시오.\n",
        "n=int(input(\"양의 정수 입력:\"))\n",
        "s=0 #배수의 개수\n",
        "print(f'{n}의 배수:',end=' ' )\n",
        "for i in range(1,101,1):\n",
        "  if i%n==0:\n",
        "    s=s+1\n",
        "    print(i,end=' ')\n",
        "print()\n",
        "print(f'{n}의 배수의 개수: {s}')"
      ],
      "metadata": {
        "colab": {
          "base_uri": "https://localhost:8080/"
        },
        "id": "eHUQ4SnNi5_h",
        "outputId": "ecf6e915-ee4f-4cd9-91f8-2d0a58353a19"
      },
      "execution_count": null,
      "outputs": [
        {
          "output_type": "stream",
          "name": "stdout",
          "text": [
            "양의 정수 입력:15\n",
            "15의 배수: 15 30 45 60 75 90 \n",
            "15의 배수의 개수: 6\n"
          ]
        }
      ]
    },
    {
      "cell_type": "code",
      "source": [
        "#16. 1+2-3+4+5-6+7+8-9+...-99+100=?\n",
        "s=0\n",
        "for i in range(1,101,1):\n",
        "  if i%3==0:\n",
        "    s=s-i\n",
        "  else:\n",
        "    s=s+i\n",
        "print(s)"
      ],
      "metadata": {
        "colab": {
          "base_uri": "https://localhost:8080/"
        },
        "id": "jDAeTxfCnQb0",
        "outputId": "4f846d1a-96c2-420a-df2e-874fdabc5cdd"
      },
      "execution_count": null,
      "outputs": [
        {
          "output_type": "stream",
          "name": "stdout",
          "text": [
            "1684\n"
          ]
        }
      ]
    },
    {
      "cell_type": "code",
      "source": [
        "#17. 1+(1+2)+(1+2+3)+...+(1+2+3+...+100)=?\n",
        "s=0\n",
        "for i in range(1,101,1):\n",
        "  for j in range(1,i,1):\n",
        "    s=s+j\n",
        "print(s)"
      ],
      "metadata": {
        "colab": {
          "base_uri": "https://localhost:8080/"
        },
        "id": "Ai6nqoZpoTyD",
        "outputId": "023c65ea-1431-4661-cd54-da45ed9350c8"
      },
      "execution_count": null,
      "outputs": [
        {
          "output_type": "stream",
          "name": "stdout",
          "text": [
            "166650\n"
          ]
        }
      ]
    },
    {
      "cell_type": "code",
      "source": [
        "#18. 5명의 학생에 대한 번호, 중간 기말 점수를 정수 값으로 입력받아 총점, 평균(소수 둘째자리까지), 학점을 구하여 출력하시오. 평균이 같은 학생은 없다고 가정.\n",
        "for i in range(5):\n",
        "  a,b,c=map(int,input(\"학생에 대한 번호,중간 기말 점수를 입력하시오: \").split(\" \"))\n",
        "  d=(b+c)/2\n",
        "  if d>=90: e=\"A\"\n",
        "  elif 80<d<90: e=\"B\"\n",
        "  elif 70<d<80: e=\"C\"\n",
        "  elif 60<d<70: e=\"D\"\n",
        "  else: e=\"F\"\n",
        "  print(\"번호 : %d, 총점 : %d, 평균 : %0.2f, 학점:%c\" %(a,b+c,d,e))"
      ],
      "metadata": {
        "colab": {
          "base_uri": "https://localhost:8080/",
          "height": 288
        },
        "id": "1iAabin7qJuc",
        "outputId": "d0c7bae0-80aa-4a21-a0ea-45c5ef621646"
      },
      "execution_count": null,
      "outputs": [
        {
          "name": "stdout",
          "output_type": "stream",
          "text": [
            "학생에 대한 번호,중간 기말 점수를 입력하시오: \n"
          ]
        },
        {
          "output_type": "error",
          "ename": "ValueError",
          "evalue": "ignored",
          "traceback": [
            "\u001b[0;31m---------------------------------------------------------------------------\u001b[0m",
            "\u001b[0;31mValueError\u001b[0m                                Traceback (most recent call last)",
            "\u001b[0;32m<ipython-input-55-3ab1baaf8b70>\u001b[0m in \u001b[0;36m<module>\u001b[0;34m\u001b[0m\n\u001b[1;32m      1\u001b[0m \u001b[0;31m#18. 5명의 학생에 대한 번호, 중간 기말 점수를 정수 값으로 입력받아 총점, 평균(소수 둘째자리까지), 학점을 구하여 출력하시오. 평균이 같은 학생은 없다고 가정.\u001b[0m\u001b[0;34m\u001b[0m\u001b[0;34m\u001b[0m\u001b[0m\n\u001b[1;32m      2\u001b[0m \u001b[0;32mfor\u001b[0m \u001b[0mi\u001b[0m \u001b[0;32min\u001b[0m \u001b[0mrange\u001b[0m\u001b[0;34m(\u001b[0m\u001b[0;36m5\u001b[0m\u001b[0;34m)\u001b[0m\u001b[0;34m:\u001b[0m\u001b[0;34m\u001b[0m\u001b[0;34m\u001b[0m\u001b[0m\n\u001b[0;32m----> 3\u001b[0;31m   \u001b[0ma\u001b[0m\u001b[0;34m,\u001b[0m\u001b[0mb\u001b[0m\u001b[0;34m,\u001b[0m\u001b[0mc\u001b[0m\u001b[0;34m=\u001b[0m\u001b[0mmap\u001b[0m\u001b[0;34m(\u001b[0m\u001b[0mint\u001b[0m\u001b[0;34m,\u001b[0m\u001b[0minput\u001b[0m\u001b[0;34m(\u001b[0m\u001b[0;34m\"학생에 대한 번호,중간 기말 점수를 입력하시오: \"\u001b[0m\u001b[0;34m)\u001b[0m\u001b[0;34m.\u001b[0m\u001b[0msplit\u001b[0m\u001b[0;34m(\u001b[0m\u001b[0;34m\" \"\u001b[0m\u001b[0;34m)\u001b[0m\u001b[0;34m)\u001b[0m\u001b[0;34m\u001b[0m\u001b[0;34m\u001b[0m\u001b[0m\n\u001b[0m\u001b[1;32m      4\u001b[0m   \u001b[0md\u001b[0m\u001b[0;34m=\u001b[0m\u001b[0;34m(\u001b[0m\u001b[0mb\u001b[0m\u001b[0;34m+\u001b[0m\u001b[0mc\u001b[0m\u001b[0;34m)\u001b[0m\u001b[0;34m/\u001b[0m\u001b[0;36m2\u001b[0m\u001b[0;34m\u001b[0m\u001b[0;34m\u001b[0m\u001b[0m\n\u001b[1;32m      5\u001b[0m   \u001b[0;32mif\u001b[0m \u001b[0md\u001b[0m\u001b[0;34m>=\u001b[0m\u001b[0;36m90\u001b[0m\u001b[0;34m:\u001b[0m \u001b[0me\u001b[0m\u001b[0;34m=\u001b[0m\u001b[0;34m\"A\"\u001b[0m\u001b[0;34m\u001b[0m\u001b[0;34m\u001b[0m\u001b[0m\n",
            "\u001b[0;31mValueError\u001b[0m: invalid literal for int() with base 10: ''"
          ]
        }
      ]
    },
    {
      "cell_type": "code",
      "source": [
        "#19. 하나의 점수를 입력받아 출력하시오. 단, 입력된 점수가 [0,100] 범위를 벗어나면 재입력 받으시오.\n",
        "a=int(input(\"점수 입력: \"))\n",
        "while not 0<=a<=100:\n",
        "  a=int(input(\"재입력하시오: \"))\n",
        "print(a)\n"
      ],
      "metadata": {
        "colab": {
          "base_uri": "https://localhost:8080/"
        },
        "id": "fDhK8vA0tmRL",
        "outputId": "0ca463ba-07bc-40fb-fe62-6903e0137056"
      },
      "execution_count": null,
      "outputs": [
        {
          "output_type": "stream",
          "name": "stdout",
          "text": [
            "점수 입력: 112\n",
            "재입력하시오: 156\n",
            "재입력하시오: 5\n",
            "5\n"
          ]
        }
      ]
    },
    {
      "cell_type": "code",
      "source": [
        "#20. 임의의 정수를 하나 입력받아 그 수가 소수인지를 판별하는 프로그램을 작성하시오. 소수란 1과 자기 자신 이외에는 나누어지지 않는 수를 말한다.\n",
        "a=int(input(\"정수 입력: \"))\n",
        "for i in range(2,a,1):\n",
        "  if a%i==0:\n",
        "    a=\"소수가 아니다\"\n",
        "    break;\n",
        "  else:\n",
        "    a=\"소수이다\"\n",
        "    break;\n",
        "print(a)"
      ],
      "metadata": {
        "colab": {
          "base_uri": "https://localhost:8080/"
        },
        "id": "qexxyxBnv6ok",
        "outputId": "9eeafe2d-8f44-456f-e36d-76f403185c9b"
      },
      "execution_count": null,
      "outputs": [
        {
          "output_type": "stream",
          "name": "stdout",
          "text": [
            "정수 입력: 17\n",
            "소수이다\n"
          ]
        }
      ]
    }
  ]
}