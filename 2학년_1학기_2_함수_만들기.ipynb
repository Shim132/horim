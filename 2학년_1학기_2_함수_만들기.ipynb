{
  "nbformat": 4,
  "nbformat_minor": 0,
  "metadata": {
    "colab": {
      "provenance": [],
      "authorship_tag": "ABX9TyOJpHSC/0iZ/foIgBl0oXkA",
      "include_colab_link": true
    },
    "kernelspec": {
      "name": "python3",
      "display_name": "Python 3"
    },
    "language_info": {
      "name": "python"
    }
  },
  "cells": [
    {
      "cell_type": "markdown",
      "metadata": {
        "id": "view-in-github",
        "colab_type": "text"
      },
      "source": [
        "<a href=\"https://colab.research.google.com/github/Shim132/horim/blob/main/2%ED%95%99%EB%85%84_1%ED%95%99%EA%B8%B0_2_%ED%95%A8%EC%88%98_%EB%A7%8C%EB%93%A4%EA%B8%B0.ipynb\" target=\"_parent\"><img src=\"https://colab.research.google.com/assets/colab-badge.svg\" alt=\"Open In Colab\"/></a>"
      ]
    },
    {
      "cell_type": "code",
      "execution_count": null,
      "metadata": {
        "colab": {
          "base_uri": "https://localhost:8080/"
        },
        "id": "XPHonuI6Tod5",
        "outputId": "dff8ff3f-e348-4398-a4db-e15e2f98071d"
      },
      "outputs": [
        {
          "output_type": "execute_result",
          "data": {
            "text/plain": [
              "11"
            ]
          },
          "metadata": {},
          "execution_count": 6
        }
      ],
      "source": [
        "#1. 하나의 정수를 넘겨받아 절대값을 구하여 return하는 함수 f1()을 정의하시오.\n",
        "def f1(n):\n",
        "  return abs(n)\n",
        "f1(-11)"
      ]
    },
    {
      "cell_type": "code",
      "source": [
        "#2. 두 정수를 넘겨받아 더 큰 수를 구하여  return하는 함수 f2()를 정의하시오.\n",
        "def f2(a,b):\n",
        "  if a>b:\n",
        "    return a\n",
        "  else:\n",
        "    return b \n",
        "f2(7,10)"
      ],
      "metadata": {
        "colab": {
          "base_uri": "https://localhost:8080/"
        },
        "id": "jU_9syb6UnAl",
        "outputId": "b40eff27-5c34-4f36-d74e-a8a98245af50"
      },
      "execution_count": null,
      "outputs": [
        {
          "output_type": "execute_result",
          "data": {
            "text/plain": [
              "10"
            ]
          },
          "metadata": {},
          "execution_count": 7
        }
      ]
    },
    {
      "cell_type": "code",
      "source": [
        "#3. 두 정수를 넘겨받아 큰 수와 작은 수를 구하여 차례대로 return하는 함수 f3()을 정의하시오.\n",
        "def f3(a,b):\n",
        "  if a>b:\n",
        "    return a,b\n",
        "  else:\n",
        "    return b,a\n",
        "f3(11,111)"
      ],
      "metadata": {
        "colab": {
          "base_uri": "https://localhost:8080/"
        },
        "id": "cqVLGPEBV1FU",
        "outputId": "0d21bb16-3430-467a-f0bb-cf3fceeb1e13"
      },
      "execution_count": null,
      "outputs": [
        {
          "output_type": "execute_result",
          "data": {
            "text/plain": [
              "(111, 11)"
            ]
          },
          "metadata": {},
          "execution_count": 14
        }
      ]
    },
    {
      "cell_type": "code",
      "source": [
        "#4. 세 정수를 넘겨받아 가장 큰 수와 가장 작은 수를 구하여 return하는 함수 f4()를 정의하시오.\n",
        "def f4(a,b,c):\n",
        "  if a>b and a>c:\n",
        "    x=a\n",
        "    if b>c:\n",
        "      y=c\n",
        "    if c>b:\n",
        "      y=b\n",
        "    return x,y\n",
        "\n",
        "  if b>a and b>c:\n",
        "    x=b\n",
        "    if a>c:\n",
        "      y=c\n",
        "    if c>a:\n",
        "      y=a\n",
        "    return x,y\n",
        "\n",
        "  if c>a and c>b:\n",
        "    x=c\n",
        "    if a>b:\n",
        "      y=b\n",
        "    if b>a:\n",
        "      y=a\n",
        "    return x,y\n",
        "\n",
        "r=f4(10,9,3)\n",
        "print(r)"
      ],
      "metadata": {
        "id": "GMCBdUscW4p2",
        "colab": {
          "base_uri": "https://localhost:8080/"
        },
        "outputId": "77c087a6-6a81-4f71-8d0c-41ffe73cfb30"
      },
      "execution_count": null,
      "outputs": [
        {
          "output_type": "stream",
          "name": "stdout",
          "text": [
            "(10, 3)\n"
          ]
        }
      ]
    },
    {
      "cell_type": "code",
      "source": [
        "#5. 하나의 리스트를 넘겨받아 원소의 갯수를 return하는 함수 f5()를 정의하시오.\n",
        "def f5(a):\n",
        "  return len(a)\n",
        "x=[1,2,3,4,5,3,2]\n",
        "r=f5(x)\n",
        "print(r)"
      ],
      "metadata": {
        "colab": {
          "base_uri": "https://localhost:8080/"
        },
        "id": "bNlcGIEmcGcn",
        "outputId": "e0daf627-7a97-4880-e468-4d44ea63a633"
      },
      "execution_count": null,
      "outputs": [
        {
          "output_type": "stream",
          "name": "stdout",
          "text": [
            "7\n"
          ]
        }
      ]
    },
    {
      "cell_type": "code",
      "source": [
        "#6. 하나의 리스트를 넘겨받아 가장 큰 수를 구하여 return하는 함수 f6()를 정의하시오.\n",
        "def f6(a):\n",
        "  a.sort()\n",
        "  return a[len(a)-1]\n",
        "x=[3,32,4,5,6]\n",
        "print(f6(x))"
      ],
      "metadata": {
        "colab": {
          "base_uri": "https://localhost:8080/"
        },
        "id": "H2gQIGyHgprZ",
        "outputId": "687cffd1-345e-4eb2-e9e3-6959533ca19b"
      },
      "execution_count": null,
      "outputs": [
        {
          "output_type": "stream",
          "name": "stdout",
          "text": [
            "32\n"
          ]
        }
      ]
    },
    {
      "cell_type": "code",
      "source": [
        "# 7. 하나의 리스트를 넘겨받아 가장 큰 수와 가장 작은 수의 차를 구하여 return하는 함수 f7()를 정의하시오.\n",
        "n=int(input(\"리스트 갯수: \"))\n",
        "a=[]\n",
        "for i in range(n):\n",
        "  x = int(input(\"숫자 입력: \"))\n",
        "  a.append(x)\n",
        "\n",
        "def f7(x):\n",
        "  x.sort()\n",
        "  return x[len(x)-1]-x[0]\n",
        "\n",
        "f7(a)"
      ],
      "metadata": {
        "colab": {
          "base_uri": "https://localhost:8080/"
        },
        "id": "DvB8l4vfgpir",
        "outputId": "287673f9-5460-46c5-bd29-6f2874060b78"
      },
      "execution_count": null,
      "outputs": [
        {
          "name": "stdout",
          "output_type": "stream",
          "text": [
            "리스트 갯수: 3\n",
            "숫자 입력: 1\n",
            "숫자 입력: 3\n",
            "숫자 입력: 5\n"
          ]
        },
        {
          "output_type": "execute_result",
          "data": {
            "text/plain": [
              "4"
            ]
          },
          "metadata": {},
          "execution_count": 18
        }
      ]
    },
    {
      "cell_type": "code",
      "source": [
        "# 8. 하나의 리스트를 넘겨받아 전체 원소의 평균을 구하여 return하는 함수 f8()를 정의하시오.\n",
        "a=[1,2,3,4,5]\n",
        "def f8(x):\n",
        "  mean = sum(x) / len(x)\n",
        "  return mean\n",
        "\n",
        "print(f8(a))"
      ],
      "metadata": {
        "colab": {
          "base_uri": "https://localhost:8080/"
        },
        "id": "pYukQTYpgpPH",
        "outputId": "dd014f2e-2b14-430a-99e2-79c996f6cc9f"
      },
      "execution_count": null,
      "outputs": [
        {
          "output_type": "stream",
          "name": "stdout",
          "text": [
            "3.0\n"
          ]
        }
      ]
    },
    {
      "cell_type": "code",
      "source": [
        "#9. 하나의 리스트를 넘겨받아 오름 차순으로 정렬한 후, 원소의 갯수가 홀수개이면 중앙값을 return하고, 짝수개이면 중앙의 두 원소의 평균을 return하는 함수 f9()를 정의하시오.\n",
        "def f9(a):\n",
        "  a.sort()\n",
        "  m=0\n",
        "  x=0\n",
        "  if len(a)%2==0:\n",
        "    x=len(a)//2\n",
        "    m=(a[x-1]+a[x])/2\n",
        "  else :\n",
        "    x=len(a)//2+1\n",
        "    m=a[x-1]\n",
        "  return m\n",
        "a=[3,10,5,4,1,7,6]\n",
        "r=f9(a)\n",
        "print(r)"
      ],
      "metadata": {
        "colab": {
          "base_uri": "https://localhost:8080/"
        },
        "id": "zswoirXygpD_",
        "outputId": "716bcc7c-94ca-4a98-e9fa-d9262fbacb55"
      },
      "execution_count": null,
      "outputs": [
        {
          "output_type": "stream",
          "name": "stdout",
          "text": [
            "5\n"
          ]
        }
      ]
    },
    {
      "cell_type": "code",
      "source": [
        "#10. 하나의 리스트를 넘겨받아 홀수번째 원소들만을 슬라이싱한 결과를 return하는 함수 f10()를 정의하시오.\n",
        "def f10(a):\n",
        "  k=a[ : :2]\n",
        "  return k\n",
        "a=[1,5,2,7,3]\n",
        "r=f10(a)\n",
        "print(r)"
      ],
      "metadata": {
        "colab": {
          "base_uri": "https://localhost:8080/"
        },
        "id": "-cTzTfh-go12",
        "outputId": "1f824916-575d-42f1-d93b-1ffa0155e27d"
      },
      "execution_count": null,
      "outputs": [
        {
          "output_type": "stream",
          "name": "stdout",
          "text": [
            "[1, 2, 3]\n"
          ]
        }
      ]
    }
  ]
}